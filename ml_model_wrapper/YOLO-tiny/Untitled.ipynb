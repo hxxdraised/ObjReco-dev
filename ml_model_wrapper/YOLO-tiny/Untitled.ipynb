{
 "cells": [
  {
   "cell_type": "code",
   "execution_count": 9,
   "id": "a9e35db3",
   "metadata": {},
   "outputs": [],
   "source": [
    "import cv2 as cv\n",
    "import numpy as np\n",
    "import time"
   ]
  },
  {
   "cell_type": "code",
   "execution_count": 2,
   "id": "e74c65dd",
   "metadata": {},
   "outputs": [],
   "source": [
    "net = cv.dnn.readNetFromDarknet('custom-yolov4-tiny-detector-test.cfg', 'yolov4-tiny-detector_10000.weights')\n",
    "net.setPreferableBackend(cv.dnn.DNN_BACKEND_OPENCV)"
   ]
  },
  {
   "cell_type": "code",
   "execution_count": 3,
   "id": "480defca",
   "metadata": {},
   "outputs": [
    {
     "name": "stdout",
     "output_type": "stream",
     "text": [
      "78 ['conv_0', 'bn_0', 'relu_1', 'conv_1', 'bn_1', 'relu_2', 'conv_2', 'bn_2', 'relu_3', 'slice_3', 'conv_4', 'bn_4', 'relu_5', 'conv_5', 'bn_5', 'relu_6', 'concat_6', 'conv_7', 'bn_7', 'relu_8', 'concat_8', 'pool_9', 'conv_10', 'bn_10', 'relu_11', 'slice_11', 'conv_12', 'bn_12', 'relu_13', 'conv_13', 'bn_13', 'relu_14', 'concat_14', 'conv_15', 'bn_15', 'relu_16', 'concat_16', 'pool_17', 'conv_18', 'bn_18', 'relu_19', 'slice_19', 'conv_20', 'bn_20', 'relu_21', 'conv_21', 'bn_21', 'relu_22', 'concat_22', 'conv_23', 'bn_23', 'relu_24', 'concat_24', 'pool_25', 'conv_26', 'bn_26', 'relu_27', 'conv_27', 'bn_27', 'relu_28', 'conv_28', 'bn_28', 'relu_29', 'conv_29', 'permute_30', 'yolo_30', 'identity_31', 'conv_32', 'bn_32', 'relu_33', 'upsample_33', 'concat_34', 'conv_35', 'bn_35', 'relu_36', 'conv_36', 'permute_37', 'yolo_37']\n"
     ]
    }
   ],
   "source": [
    "ln = net.getLayerNames()\n",
    "print(len(ln), ln)"
   ]
  },
  {
   "cell_type": "code",
   "execution_count": 6,
   "id": "8e549440",
   "metadata": {},
   "outputs": [],
   "source": [
    "img = cv.imread(\"Picture 515.jpg\", cv.IMREAD_UNCHANGED)"
   ]
  },
  {
   "cell_type": "code",
   "execution_count": 7,
   "id": "00d06a99",
   "metadata": {},
   "outputs": [],
   "source": [
    "blob = cv.dnn.blobFromImage(img, 1/255.0, (416, 416), swapRB=True, crop=False)"
   ]
  },
  {
   "cell_type": "code",
   "execution_count": 11,
   "id": "b7fc3a85",
   "metadata": {},
   "outputs": [
    {
     "name": "stdout",
     "output_type": "stream",
     "text": [
      "time= 0.13297772407531738\n"
     ]
    }
   ],
   "source": [
    "net.setInput(blob)\n",
    "t0 = time.time()\n",
    "outputs = net.forward(ln)\n",
    "t = time.time()\n",
    "print('time=', t-t0)"
   ]
  },
  {
   "cell_type": "code",
   "execution_count": 12,
   "id": "c35372f5",
   "metadata": {},
   "outputs": [
    {
     "name": "stdout",
     "output_type": "stream",
     "text": [
      "78\n",
      "(1, 32, 208, 208)\n",
      "(1, 32, 208, 208)\n",
      "(1, 32, 208, 208)\n",
      "(1, 64, 104, 104)\n",
      "(1, 64, 104, 104)\n",
      "(1, 64, 104, 104)\n",
      "(1, 64, 104, 104)\n",
      "(1, 64, 104, 104)\n",
      "(1, 64, 104, 104)\n",
      "(1, 32, 104, 104)\n",
      "(1, 32, 104, 104)\n",
      "(1, 32, 104, 104)\n",
      "(1, 32, 104, 104)\n",
      "(1, 32, 104, 104)\n",
      "(1, 32, 104, 104)\n",
      "(1, 32, 104, 104)\n",
      "(1, 64, 104, 104)\n",
      "(1, 64, 104, 104)\n",
      "(1, 64, 104, 104)\n",
      "(1, 64, 104, 104)\n",
      "(1, 128, 104, 104)\n",
      "(1, 128, 52, 52)\n",
      "(1, 128, 52, 52)\n",
      "(1, 128, 52, 52)\n",
      "(1, 128, 52, 52)\n",
      "(1, 64, 52, 52)\n",
      "(1, 64, 52, 52)\n",
      "(1, 64, 52, 52)\n",
      "(1, 64, 52, 52)\n",
      "(1, 64, 52, 52)\n",
      "(1, 64, 52, 52)\n",
      "(1, 64, 52, 52)\n",
      "(1, 128, 52, 52)\n",
      "(1, 128, 52, 52)\n",
      "(1, 128, 52, 52)\n",
      "(1, 128, 52, 52)\n",
      "(1, 256, 52, 52)\n",
      "(1, 256, 26, 26)\n",
      "(1, 256, 26, 26)\n",
      "(1, 256, 26, 26)\n",
      "(1, 256, 26, 26)\n",
      "(1, 128, 26, 26)\n",
      "(1, 128, 26, 26)\n",
      "(1, 128, 26, 26)\n",
      "(1, 128, 26, 26)\n",
      "(1, 128, 26, 26)\n",
      "(1, 128, 26, 26)\n",
      "(1, 128, 26, 26)\n",
      "(1, 256, 26, 26)\n",
      "(1, 256, 26, 26)\n",
      "(1, 256, 26, 26)\n",
      "(1, 256, 26, 26)\n",
      "(1, 512, 26, 26)\n",
      "(1, 512, 13, 13)\n",
      "(1, 512, 13, 13)\n",
      "(1, 512, 13, 13)\n",
      "(1, 512, 13, 13)\n",
      "(1, 256, 13, 13)\n",
      "(1, 256, 13, 13)\n",
      "(1, 256, 13, 13)\n",
      "(1, 512, 13, 13)\n",
      "(1, 512, 13, 13)\n",
      "(1, 512, 13, 13)\n",
      "(1, 48, 13, 13)\n",
      "(1, 13, 13, 48)\n",
      "(507, 16)\n",
      "(1, 256, 13, 13)\n",
      "(1, 128, 13, 13)\n",
      "(1, 128, 13, 13)\n",
      "(1, 128, 13, 13)\n",
      "(1, 128, 26, 26)\n",
      "(1, 384, 26, 26)\n",
      "(1, 256, 26, 26)\n",
      "(1, 256, 26, 26)\n",
      "(1, 256, 26, 26)\n",
      "(1, 48, 26, 26)\n",
      "(1, 26, 26, 48)\n",
      "(2028, 16)\n"
     ]
    }
   ],
   "source": [
    "print(len(outputs))\n",
    "for out in outputs:\n",
    "    print(out.shape)"
   ]
  },
  {
   "cell_type": "code",
   "execution_count": null,
   "id": "5f14b8e8",
   "metadata": {},
   "outputs": [],
   "source": [
    "\n",
    "def trackbar2(x):\n",
    "    confidence = x/100\n",
    "    r = r0.copy()\n",
    "    for output in np.vstack(outputs):\n",
    "        if output[4] > confidence:\n",
    "            x, y, w, h = output[:4]\n",
    "            p0 = int((x-w/2)*416), int((y-h/2)*416)\n",
    "            p1 = int((x+w/2)*416), int((y+h/2)*416)\n",
    "            cv.rectangle(r, p0, p1, 1, 1)\n",
    "    cv.imshow('blob', r)\n",
    "    text = f'Bbox confidence={confidence}'\n",
    "    cv.displayOverlay('blob', text)\n",
    "\n",
    "r0 = blob[0, 0, :, :]\n",
    "r = r0.copy()\n",
    "cv.imshow('blob', r)\n",
    "cv.createTrackbar('confidence', 'blob', 50, 101, trackbar2)\n",
    "trackbar2(50)\n",
    "\n",
    "boxes = []\n",
    "confidences = []\n",
    "classIDs = []\n",
    "h, w = img.shape[:2]\n",
    "\n",
    "for output in outputs:\n",
    "    for detection in output:\n",
    "        scores = detection[5:]\n",
    "        classID = np.argmax(scores)\n",
    "        confidence = scores[classID]\n",
    "        if confidence > 0.5:\n",
    "            box = detection[:4] * np.array([w, h, w, h])\n",
    "            (centerX, centerY, width, height) = box.astype(\"int\")\n",
    "            x = int(centerX - (width / 2))\n",
    "            y = int(centerY - (height / 2))\n",
    "            box = [x, y, int(width), int(height)]\n",
    "            boxes.append(box)\n",
    "            confidences.append(float(confidence))\n",
    "            classIDs.append(classID)\n",
    "\n",
    "indices = cv.dnn.NMSBoxes(boxes, confidences, 0.5, 0.4)\n",
    "if len(indices) > 0:\n",
    "    for i in indices.flatten():\n",
    "        (x, y) = (boxes[i][0], boxes[i][1])\n",
    "        (w, h) = (boxes[i][2], boxes[i][3])\n",
    "        color = [int(c) for c in colors[classIDs[i]]]\n",
    "        cv.rectangle(img, (x, y), (x + w, y + h), color, 2)\n",
    "        text = \"{}: {:.4f}\".format(classes[classIDs[i]], confidences[i])\n",
    "        cv.putText(img, text, (x, y - 5), cv.FONT_HERSHEY_SIMPLEX, 0.5, color, 1)\n"
   ]
  }
 ],
 "metadata": {
  "kernelspec": {
   "display_name": "Python 3",
   "language": "python",
   "name": "python3"
  },
  "language_info": {
   "codemirror_mode": {
    "name": "ipython",
    "version": 3
   },
   "file_extension": ".py",
   "mimetype": "text/x-python",
   "name": "python",
   "nbconvert_exporter": "python",
   "pygments_lexer": "ipython3",
   "version": "3.8.8"
  }
 },
 "nbformat": 4,
 "nbformat_minor": 5
}
